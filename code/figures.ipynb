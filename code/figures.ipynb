{
 "cells": [
  {
   "cell_type": "code",
   "execution_count": 47,
   "metadata": {},
   "outputs": [],
   "source": [
    "import pandas as pd"
   ]
  },
  {
   "cell_type": "code",
   "execution_count": 48,
   "metadata": {},
   "outputs": [],
   "source": [
    "results = pd.read_csv(\"../data/results.csv\")"
   ]
  },
  {
   "cell_type": "code",
   "execution_count": 49,
   "metadata": {},
   "outputs": [
    {
     "name": "stdout",
     "output_type": "stream",
     "text": [
      "\\begin{tabular}{c|c|c|c|c|c}\n",
      "\\hline\n",
      " &  &  & Loss & PSNR & SSIM \\\\ \\hline\n",
      "Crystal Position & SNR & Noise Cluster Size &  &  &  \\\\ \\hline\n",
      "\\hline\n",
      "\\multirow[('c',)]{4}{*}{27} & -17 & 10 & 0.152054 & 14.255689 & 0.390771 \\\\ \\hline\n",
      " & -15 & 10 & 0.142155 & 14.433208 & 0.429308 \\\\ \\hline\n",
      " & -10 & 10 & 0.114933 & 15.082274 & 0.516019 \\\\ \\hline\n",
      " & 0 & 0 & 0.035740 & 20.622516 & 0.859725 \\\\ \\hline\n",
      "\\multirow[('c',)]{8}{*}{40} & \\multirow[('c',)]{2}{*}{-17} & 5 & 0.078667 & 17.180819 & 0.674668 \\\\ \\hline\n",
      " &  & 10 & 0.151625 & 14.470711 & 0.419404 \\\\ \\hline\n",
      " & \\multirow[('c',)]{2}{*}{-15} & 5 & 0.065755 & 18.158322 & 0.727976 \\\\ \\hline\n",
      " &  & 10 & 0.118154 & 15.784523 & 0.521002 \\\\ \\hline\n",
      " & \\multirow[('c',)]{3}{*}{-10} & 5 & 0.063907 & 17.937821 & 0.741069 \\\\ \\hline\n",
      " &  & 10 & 0.062487 & 17.804842 & 0.747376 \\\\ \\hline\n",
      " &  & 20 & 0.167947 & 13.786124 & 0.361251 \\\\ \\hline\n",
      " & 0 & 0 & 0.058402 & 18.303133 & 0.775911 \\\\ \\hline\n",
      "\\hline\n",
      "\\end{tabular}\n",
      "\n",
      "\\begin{tabular}{c|c|c|c|c|c}\n",
      "\\hline\n",
      " &  &  & Loss & PSNR & SSIM \\\\ \\hline\n",
      "Crystal Position & SNR & Noise Cluster Size &  &  &  \\\\ \\hline\n",
      "\\hline\n",
      "\\multirow[('c',)]{7}{*}{27} & \\multirow[('c',)]{2}{*}{-17} & 10 & 0.174376 & 13.393289 & 0.330029 \\\\ \\hline\n",
      " &  & 20 & 0.210827 & 12.448233 & 0.243266 \\\\ \\hline\n",
      " & \\multirow[('c',)]{2}{*}{-15} & 10 & 0.163217 & 13.472090 & 0.354699 \\\\ \\hline\n",
      " &  & 20 & 0.196836 & 12.524571 & 0.268024 \\\\ \\hline\n",
      " & \\multirow[('c',)]{2}{*}{-10} & 10 & 0.158610 & 13.127635 & 0.366131 \\\\ \\hline\n",
      " &  & 20 & 0.184120 & 12.539651 & 0.300942 \\\\ \\hline\n",
      " & 0 & 0 & 0.156085 & 13.178342 & 0.363572 \\\\ \\hline\n",
      "\\multirow[('c',)]{9}{*}{40} & -20 & 10 & 0.186723 & 13.246670 & 0.309089 \\\\ \\hline\n",
      " & \\multirow[('c',)]{2}{*}{-17} & 10 & 0.160187 & 13.628944 & 0.382581 \\\\ \\hline\n",
      " &  & 20 & 0.205110 & 12.331772 & 0.258362 \\\\ \\hline\n",
      " & \\multirow[('c',)]{2}{*}{-15} & 10 & 0.159558 & 13.412224 & 0.383186 \\\\ \\hline\n",
      " &  & 20 & 0.188221 & 12.715321 & 0.286344 \\\\ \\hline\n",
      " & \\multirow[('c',)]{3}{*}{-10} & 5 & 0.147744 & 13.436841 & 0.424198 \\\\ \\hline\n",
      " &  & 10 & 0.150111 & 13.419618 & 0.416101 \\\\ \\hline\n",
      " &  & 20 & 0.176210 & 12.590774 & 0.325792 \\\\ \\hline\n",
      " & 0 & 0 & 0.150264 & 13.468089 & 0.418141 \\\\ \\hline\n",
      "\\hline\n",
      "\\end{tabular}\n",
      "\n"
     ]
    }
   ],
   "source": [
    "exp = results[results['Type'] == 'EXP']\n",
    "sim = results[results['Type'] == 'SIM']\n",
    "exp = exp.groupby(['Crystal Position', 'SNR', 'Noise Cluster Size']).mean()\n",
    "sim = sim.groupby(['Crystal Position', 'SNR', 'Noise Cluster Size']).mean()\n",
    "def latex_with_lines(df, *args, **kwargs):\n",
    "    kwargs['column_format'] = '|'.join(['c'] * (df.index.nlevels + df.shape[1]))\n",
    "    kwargs['multirow_align'] = 'c', \n",
    "    res = df.style.set_table_styles([\n",
    "    {'selector': 'toprule', 'props': ':hline;'},\n",
    "    {'selector': 'midrule', 'props': ':hline;'},\n",
    "    {'selector': 'bottomrule', 'props': ':hline;'},\n",
    "    ], overwrite=False)\n",
    "    res = res.to_latex(*args, **kwargs)\n",
    "    return res.replace(\"\\\\\\\\\\n\", \"\\\\\\\\ \\\\hline\\n\")\n",
    "print(latex_with_lines(exp))\n",
    "print(latex_with_lines(sim))"
   ]
  }
 ],
 "metadata": {
  "kernelspec": {
   "display_name": "base",
   "language": "python",
   "name": "python3"
  },
  "language_info": {
   "codemirror_mode": {
    "name": "ipython",
    "version": 3
   },
   "file_extension": ".py",
   "mimetype": "text/x-python",
   "name": "python",
   "nbconvert_exporter": "python",
   "pygments_lexer": "ipython3",
   "version": "3.9.16"
  },
  "orig_nbformat": 4
 },
 "nbformat": 4,
 "nbformat_minor": 2
}
